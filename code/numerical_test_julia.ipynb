{
 "cells": [
  {
   "cell_type": "code",
   "execution_count": 12,
   "metadata": {},
   "outputs": [],
   "source": [
    "using Convex, SCS\n",
    "using Plots\n",
    "pyplot()\n",
    "default(size=(500,300))"
   ]
  },
  {
   "cell_type": "code",
   "execution_count": 21,
   "metadata": {},
   "outputs": [
    {
     "name": "stdout",
     "output_type": "stream",
     "text": [
      "----------------------------------------------------------------------------\n",
      "\tSCS v1.2.6 - Splitting Conic Solver\n",
      "\t(c) Brendan O'Donoghue, Stanford University, 2012-2016\n",
      "----------------------------------------------------------------------------\n",
      "Lin-sys: sparse-direct, nnz in A = 19\n",
      "eps = 1.00e-07, alpha = 1.80, max_iters = 20000, normalize = 1, scale = 5.00\n",
      "Variables n = 7, constraints m = 15\n",
      "Cones:\tprimal zero / dual free vars: 5\n",
      "\tlinear vars: 1\n",
      "\tsd vars: 9, sd blks: 2\n",
      "Setup time: 4.99e-05s\n",
      "----------------------------------------------------------------------------\n",
      " Iter | pri res | dua res | rel gap | pri obj | dua obj | kap/tau | time (s)\n",
      "----------------------------------------------------------------------------\n",
      "     0|      inf       inf       nan      -inf       nan       inf  1.24e-04 \n",
      "   100| 1.06e-04  1.02e-02  4.00e-04 -4.00e+00 -4.00e+00  5.47e-16  5.67e-04 \n",
      "   200| 9.82e-05  1.00e-02  6.45e-05 -4.00e+00 -4.00e+00  2.74e-16  9.28e-04 \n",
      "   300| 9.86e-05  1.00e-02  9.63e-05 -4.00e+00 -4.00e+00  2.75e-16  1.29e-03 \n",
      "   400| 9.90e-05  1.00e-02  1.29e-04 -4.00e+00 -4.00e+00  2.76e-16  1.67e-03 \n",
      "   500| 9.97e-05  1.01e-02  1.61e-04 -4.00e+00 -4.00e+00  0.00e+00  2.03e-03 \n",
      "   600| 1.00e-04  1.01e-02  1.94e-04 -4.00e+00 -4.00e+00  0.00e+00  2.39e-03 \n",
      "   700| 1.01e-04  1.01e-02  2.27e-04 -4.01e+00 -4.00e+00  0.00e+00  2.76e-03 \n",
      "   800| 1.02e-04  1.02e-02  2.61e-04 -4.01e+00 -4.00e+00  2.82e-16  3.23e-03 \n",
      "   900| 1.04e-04  1.02e-02  2.95e-04 -4.01e+00 -4.00e+00  0.00e+00  3.58e-03 \n",
      "  1000| 1.05e-04  1.03e-02  3.30e-04 -4.01e+00 -4.00e+00  0.00e+00  3.93e-03 \n",
      "  1100| 1.07e-04  1.03e-02  3.65e-04 -4.01e+00 -4.01e+00  2.90e-16  4.30e-03 \n",
      "  1200| 1.08e-04  1.04e-02  4.01e-04 -4.01e+00 -4.01e+00  2.94e-16  4.65e-03 \n",
      "  1300| 1.10e-04  1.05e-02  4.38e-04 -4.01e+00 -4.01e+00  0.00e+00  5.01e-03 \n",
      "  1400| 1.12e-04  1.06e-02  4.76e-04 -4.01e+00 -4.01e+00  0.00e+00  5.54e-03 \n",
      "  1500| 1.15e-04  1.07e-02  5.15e-04 -4.01e+00 -4.01e+00  0.00e+00  5.89e-03 \n",
      "  1600| 1.17e-04  1.08e-02  5.56e-04 -4.01e+00 -4.01e+00  3.11e-16  6.26e-03 \n",
      "  1700| 1.20e-04  1.09e-02  5.97e-04 -4.01e+00 -4.01e+00  0.00e+00  6.61e-03 \n",
      "  1800| 1.23e-04  1.10e-02  6.41e-04 -4.02e+00 -4.01e+00  3.22e-16  6.96e-03 \n",
      "  1900| 1.26e-04  1.12e-02  6.85e-04 -4.02e+00 -4.01e+00  0.00e+00  7.31e-03 \n",
      "  2000| 1.29e-04  1.13e-02  7.32e-04 -4.02e+00 -4.01e+00  0.00e+00  7.66e-03 \n",
      "  2100| 1.33e-04  1.15e-02  7.81e-04 -4.02e+00 -4.01e+00  0.00e+00  8.23e-03 \n",
      "  2200| 1.37e-04  1.17e-02  8.32e-04 -4.02e+00 -4.01e+00  0.00e+00  8.60e-03 \n",
      "  2300| 2.19e-07  9.34e-07  7.41e-08 -4.02e+00 -4.02e+00  0.00e+00  9.02e-03 \n",
      "  2360| 2.52e-09  2.21e-08  5.14e-09 -4.02e+00 -4.02e+00  0.00e+00  9.27e-03 \n",
      "----------------------------------------------------------------------------\n",
      "Status: Solved\n",
      "Timing: Solve time: 9.27e-03s\n",
      "\tLin-sys: nnz in L factor: 43, avg solve time: 2.45e-07s\n",
      "\tCones: avg projection time: 3.28e-06s\n",
      "----------------------------------------------------------------------------\n",
      "Error metrics:\n",
      "dist(s, K) = 1.3603e-09, dist(y, K*) = 6.8319e-10, s'y/|s||y| = 1.1006e-10\n",
      "|Ax + s - b|_2 / (1 + |b|_2) = 2.5212e-09\n",
      "|A'y + c|_2 / (1 + |c|_2) = 2.2114e-08\n",
      "|c'x + b'y| / (1 + |c'x| + |b'y|) = 5.1407e-09\n",
      "----------------------------------------------------------------------------\n",
      "c'x = -4.0200, -b'y = -4.0200\n",
      "============================================================================\n"
     ]
    },
    {
     "data": {
      "text/plain": [
       "2×1 Array{Float64,2}:\n",
       " -0.999999   \n",
       " -0.000999001"
      ]
     },
     "execution_count": 21,
     "metadata": {},
     "output_type": "execute_result"
    }
   ],
   "source": [
    "n = 2\n",
    "X = randn(n, n)\n",
    "# eigs = randn(n)\n",
    "eigs = linspace(-2, -0.5, 100)\n",
    "# A = diagm([-4, -1, 3, 6])\n",
    "A = diagm([-4, 6])\n",
    "#A = diagm(eigs)\n",
    "# b = randn(n);\n",
    "# b = 1e-2*[1, 0, 1, 1]\n",
    "b = 1e-2*[1, 1]\n",
    "x = Variable(n)\n",
    "X = Semidefinite(n)\n",
    "constraints = [ trace(X) <= 1, ([X x; x' 1] ⪰ 0)]\n",
    "problem = minimize(trace(A*X) + 2*b'*x, constraints)\n",
    "solve!(problem, SCSSolver(eps=1e-7));\n",
    "f_star = problem.optval/2 # your value from CVX goes here\n",
    "s_cvx = x.value"
   ]
  },
  {
   "cell_type": "code",
   "execution_count": 22,
   "metadata": {},
   "outputs": [
    {
     "data": {
      "text/plain": [
       "0.00019999999999999993"
      ]
     },
     "execution_count": 22,
     "metadata": {},
     "output_type": "execute_result"
    }
   ],
   "source": [
    "b'*A*b"
   ]
  },
  {
   "cell_type": "code",
   "execution_count": 23,
   "metadata": {},
   "outputs": [
    {
     "data": {
      "text/plain": [
       "2-element Array{Float64,1}:\n",
       " -1.0        \n",
       " -0.000999001"
      ]
     },
     "execution_count": 23,
     "metadata": {},
     "output_type": "execute_result"
    }
   ],
   "source": [
    "# x = zeros(n)\n",
    "x = -b/norm(b)\n",
    "f(x) = 0.5 * dot(x, A*x) + dot(b, x)\n",
    "grad(x) = A*x + b\n",
    "fs = [f(x)]\n",
    "norms = [norm(x)]\n",
    "iterates = [x]\n",
    "grads = [grad(x)]\n",
    "for k in 1:3000\n",
    "\tx -= 1/(2*norm(A)) * grad(x)\n",
    "\tif norm(x) > 1\n",
    "\t\tx /= norm(x)\n",
    "\tend\n",
    "\tpush!(fs, f(x) - f_star)\n",
    "    push!(norms, norm(x))\n",
    "    push!(iterates, x)\n",
    "    push!(grads, grad(x))\n",
    "end\n",
    "s = iterates[end]"
   ]
  },
  {
   "cell_type": "code",
   "execution_count": 24,
   "metadata": {},
   "outputs": [
    {
     "data": {
      "text/plain": [
       "1.928505314178743e-9"
      ]
     },
     "execution_count": 24,
     "metadata": {},
     "output_type": "execute_result"
    }
   ],
   "source": [
    "norm(s - s_cvx)"
   ]
  },
  {
   "cell_type": "code",
   "execution_count": 26,
   "metadata": {},
   "outputs": [
    {
     "data": {
      "image/png": "[encoded data removed]",
      "text/plain": [
       "PyPlot.Figure(PyObject <matplotlib.figure.Figure object at 0x10a222390>)"
      ]
     },
     "metadata": {},
     "output_type": "display_data"
    },
    {
     "data": {
      "text/plain": [
       "PyObject <matplotlib.legend.Legend object at 0x12f920a90>"
      ]
     },
     "execution_count": 26,
     "metadata": {},
     "output_type": "execute_result"
    }
   ],
   "source": [
    "v = hcat(([abs.(x - s) for x in iterates[2:50]])...)\n",
    "for i in 1:2\n",
    "    semilogy(v[i,:], label=\"$i\")\n",
    "end\n",
    "legend()"
   ]
  },
  {
   "cell_type": "code",
   "execution_count": 55,
   "metadata": {},
   "outputs": [
    {
     "name": "stdout",
     "output_type": "stream",
     "text": [
      "Array{Float64,1}"
     ]
    },
    {
     "ename": "MethodError",
     "evalue": "\u001b[91mMethodError: no method matching start(::Plots.Surface{Array{Float64,2}})\u001b[0m\nClosest candidates are:\n  start(\u001b[91m::SimpleVector\u001b[39m) at essentials.jl:258\n  start(\u001b[91m::Base.MethodList\u001b[39m) at reflection.jl:560\n  start(\u001b[91m::ExponentialBackOff\u001b[39m) at error.jl:107\n  ...\u001b[39m",
     "output_type": "error",
     "traceback": [
      "\u001b[91mMethodError: no method matching start(::Plots.Surface{Array{Float64,2}})\u001b[0m\nClosest candidates are:\n  start(\u001b[91m::SimpleVector\u001b[39m) at essentials.jl:258\n  start(\u001b[91m::Base.MethodList\u001b[39m) at reflection.jl:560\n  start(\u001b[91m::ExponentialBackOff\u001b[39m) at error.jl:107\n  ...\u001b[39m",
      "",
      "Stacktrace:",
      " [1] \u001b[1mcopy!\u001b[22m\u001b[22m\u001b[1m(\u001b[22m\u001b[22m::Array{Float64,1}, ::Plots.Surface{Array{Float64,2}}\u001b[1m)\u001b[22m\u001b[22m at \u001b[1m./abstractarray.jl:572\u001b[22m\u001b[22m",
      " [2] \u001b[1mcollect\u001b[22m\u001b[22m\u001b[1m(\u001b[22m\u001b[22m::Plots.Surface{Array{Float64,2}}\u001b[1m)\u001b[22m\u001b[22m at \u001b[1m./array.jl:397\u001b[22m\u001b[22m",
      " [3] \u001b[1mhas_attribute_segments\u001b[22m\u001b[22m\u001b[1m(\u001b[22m\u001b[22m::Plots.Series\u001b[1m)\u001b[22m\u001b[22m at \u001b[1m/Users/mark/.julia/v0.6/Plots/src/utils.jl:694\u001b[22m\u001b[22m",
      " [4] \u001b[1miter_segments\u001b[22m\u001b[22m\u001b[1m(\u001b[22m\u001b[22m::Plots.Series\u001b[1m)\u001b[22m\u001b[22m at \u001b[1m/Users/mark/.julia/v0.6/Plots/src/utils.jl:197\u001b[22m\u001b[22m",
      " [5] \u001b[1mpy_add_series\u001b[22m\u001b[22m\u001b[1m(\u001b[22m\u001b[22m::Plots.Plot{Plots.PyPlotBackend}, ::Plots.Series\u001b[1m)\u001b[22m\u001b[22m at \u001b[1m/Users/mark/.julia/v0.6/Plots/src/backends/pyplot.jl:497\u001b[22m\u001b[22m",
      " [6] \u001b[1m_before_layout_calcs\u001b[22m\u001b[22m\u001b[1m(\u001b[22m\u001b[22m::Plots.Plot{Plots.PyPlotBackend}\u001b[1m)\u001b[22m\u001b[22m at \u001b[1m/Users/mark/.julia/v0.6/Plots/src/backends/pyplot.jl:973\u001b[22m\u001b[22m",
      " [7] \u001b[1mprepare_output\u001b[22m\u001b[22m\u001b[1m(\u001b[22m\u001b[22m::Plots.Plot{Plots.PyPlotBackend}\u001b[1m)\u001b[22m\u001b[22m at \u001b[1m/Users/mark/.julia/v0.6/Plots/src/plot.jl:255\u001b[22m\u001b[22m",
      " [8] \u001b[1mshow\u001b[22m\u001b[22m\u001b[1m(\u001b[22m\u001b[22m::Base64EncodePipe, ::MIME{Symbol(\"image/png\")}, ::Plots.Plot{Plots.PyPlotBackend}\u001b[1m)\u001b[22m\u001b[22m at \u001b[1m/Users/mark/.julia/v0.6/Plots/src/output.jl:209\u001b[22m\u001b[22m",
      " [9] \u001b[1mbase64encode\u001b[22m\u001b[22m\u001b[1m(\u001b[22m\u001b[22m::Function, ::MIME{Symbol(\"image/png\")}, ::Vararg{Any,N} where N\u001b[1m)\u001b[22m\u001b[22m at \u001b[1m./base64.jl:197\u001b[22m\u001b[22m",
      " [10] \u001b[1mdisplay_dict\u001b[22m\u001b[22m\u001b[1m(\u001b[22m\u001b[22m::Plots.Plot{Plots.PyPlotBackend}\u001b[1m)\u001b[22m\u001b[22m at \u001b[1m/Users/mark/.julia/v0.6/Plots/src/output.jl:293\u001b[22m\u001b[22m",
      " [11] \u001b[1m(::Compat.#inner#18{Array{Any,1},IJulia.#display_dict,Tuple{Plots.Plot{Plots.PyPlotBackend}}})\u001b[22m\u001b[22m\u001b[1m(\u001b[22m\u001b[22m\u001b[1m)\u001b[22m\u001b[22m at \u001b[1m/Users/mark/.julia/v0.6/Compat/src/Compat.jl:403\u001b[22m\u001b[22m",
      " [12] \u001b[1mexecute_request\u001b[22m\u001b[22m\u001b[1m(\u001b[22m\u001b[22m::ZMQ.Socket, ::IJulia.Msg\u001b[1m)\u001b[22m\u001b[22m at \u001b[1m/Users/mark/.julia/v0.6/IJulia/src/execute_request.jl:186\u001b[22m\u001b[22m",
      " [13] \u001b[1m(::Compat.#inner#18{Array{Any,1},IJulia.#execute_request,Tuple{ZMQ.Socket,IJulia.Msg}})\u001b[22m\u001b[22m\u001b[1m(\u001b[22m\u001b[22m\u001b[1m)\u001b[22m\u001b[22m at \u001b[1m/Users/mark/.julia/v0.6/Compat/src/Compat.jl:403\u001b[22m\u001b[22m",
      " [14] \u001b[1meventloop\u001b[22m\u001b[22m\u001b[1m(\u001b[22m\u001b[22m::ZMQ.Socket\u001b[1m)\u001b[22m\u001b[22m at \u001b[1m/Users/mark/.julia/v0.6/IJulia/src/eventloop.jl:8\u001b[22m\u001b[22m",
      " [15] \u001b[1m(::IJulia.##14#17)\u001b[22m\u001b[22m\u001b[1m(\u001b[22m\u001b[22m\u001b[1m)\u001b[22m\u001b[22m at \u001b[1m./task.jl:335\u001b[22m\u001b[22m"
     ]
    }
   ],
   "source": [
    "x1 = ([x[1] for x in iterates])\n",
    "x2 = ([x[2] for x in iterates])\n",
    "print(typeof(A*vcat(x1[1], x2[1]) + b))\n",
    "Plots.plot(x1, x2, (x1, y1) -> (0.5*vcat(x1, y1)'*A*vcat(x1, y1) + b'*vcat(x1, y1)), nlevels=10, w=4)"
   ]
  },
  {
   "cell_type": "code",
   "execution_count": 28,
   "metadata": {},
   "outputs": [
    {
     "name": "stderr",
     "output_type": "stream",
     "text": [
      "WARNING: both Plots and PyPlot export \"savefig\"; uses of it in module Main must be qualified\n"
     ]
    },
    {
     "ename": "LoadError",
     "evalue": "\u001b[91mUndefVarError: savefig not defined\u001b[39m",
     "output_type": "error",
     "traceback": [
      "\u001b[91mUndefVarError: savefig not defined\u001b[39m",
      ""
     ]
    }
   ],
   "source": [
    "inacc = 1e-8*ones(length(fs)) - minimum(fs[2:end])\n",
    "semilogy((fs + inacc)[2:50], label=\"subopt\")\n",
    "plot(norms[2:50], label=\"norm\")\n",
    "xlabel(L\"$k$\")\n",
    "ylabel(L\"$f(x^k) - f^\\star$\")\n",
    "legend()\n",
    "savefig(\"output.png\", bbox_inches=\"tight\", dpi=1000)"
   ]
  },
  {
   "cell_type": "code",
   "execution_count": 83,
   "metadata": {},
   "outputs": [
    {
     "data": {
      "image/png": "[encoded data removed]",
      "text/plain": [
       "PyPlot.Figure(PyObject <matplotlib.figure.Figure object at 0x147351590>)"
      ]
     },
     "metadata": {},
     "output_type": "display_data"
    },
    {
     "data": {
      "text/plain": [
       "1-element Array{PyCall.PyObject,1}:\n",
       " PyObject <matplotlib.lines.Line2D object at 0x147628c50>"
      ]
     },
     "execution_count": 83,
     "metadata": {},
     "output_type": "execute_result"
    }
   ],
   "source": [
    "plot([x'*A*x for (x, gradx) in zip(iterates[2:50], grads[2:50])], label=\"grads\")\n"
   ]
  },
  {
   "cell_type": "code",
   "execution_count": 86,
   "metadata": {},
   "outputs": [
    {
     "data": {
      "text/plain": [
       "49-element Array{Float64,1}:\n",
       " -1.30795\n",
       " -3.19258\n",
       " -3.75544\n",
       " -3.92473\n",
       " -3.97619\n",
       " -3.99225\n",
       " -3.99739\n",
       " -3.99907\n",
       " -3.99964\n",
       " -3.99984\n",
       " -3.99992\n",
       " -3.99995\n",
       " -3.99996\n",
       "  ⋮      \n",
       " -3.99998\n",
       " -3.99998\n",
       " -3.99998\n",
       " -3.99998\n",
       " -3.99998\n",
       " -3.99998\n",
       " -3.99998\n",
       " -3.99998\n",
       " -3.99998\n",
       " -3.99998\n",
       " -3.99998\n",
       " -3.99998"
      ]
     },
     "execution_count": 86,
     "metadata": {},
     "output_type": "execute_result"
    }
   ],
   "source": [
    "[x'*A*x for (x, gradx) in zip(iterates[2:50], grads[2:50])]"
   ]
  },
  {
   "cell_type": "code",
   "execution_count": 77,
   "metadata": {},
   "outputs": [
    {
     "data": {
      "text/plain": [
       "1.6666666666666665"
      ]
     },
     "execution_count": 77,
     "metadata": {},
     "output_type": "execute_result"
    }
   ],
   "source": [
    "\n"
   ]
  },
  {
   "cell_type": "code",
   "execution_count": null,
   "metadata": {},
   "outputs": [],
   "source": []
  }
 ],
 "metadata": {
  "kernelspec": {
   "display_name": "Julia 0.6.0",
   "language": "julia",
   "name": "julia-0.6"
  },
  "language_info": {
   "file_extension": ".jl",
   "mimetype": "application/julia",
   "name": "julia",
   "version": "0.6.0"
  }
 },
 "nbformat": 4,
 "nbformat_minor": 2
}
