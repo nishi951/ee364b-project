{
 "cells": [
  {
   "cell_type": "code",
   "execution_count": 11,
   "metadata": {},
   "outputs": [
    {
     "data": {
      "text/plain": [
       "['MOSEK', 'ECOS_BB', 'SCS', 'ECOS', 'LS']"
      ]
     },
     "execution_count": 11,
     "metadata": {},
     "output_type": "execute_result"
    }
   ],
   "source": [
    "%matplotlib inline\n",
    "\n",
    "import cvxpy as cvx\n",
    "import numpy as np\n",
    "\n",
    "import matplotlib.pyplot as plt\n",
    "cvx.installed_solvers()"
   ]
  },
  {
   "cell_type": "code",
   "execution_count": 37,
   "metadata": {},
   "outputs": [],
   "source": [
    "n = 10\n",
    "R = 5.\n",
    "L = np.random.randn(n, n)\n",
    "A = L + L.T\n",
    "lambdas = np.linalg.eigvals(A)\n",
    "b = np.random.randn(n)"
   ]
  },
  {
   "cell_type": "code",
   "execution_count": 48,
   "metadata": {},
   "outputs": [],
   "source": [
    "x = cvx.Variable(n)\n",
    "X = cvx.Symmetric(n)\n",
    "\n",
    "obj = cvx.trace(A*X) + 2*b*x\n",
    "constr = [\n",
    "    cvx.trace(X) <= R,\n",
    "    cvx.bmat([[X, x], [x.T, np.eye(1)]]) >> 0\n",
    "]"
   ]
  },
  {
   "cell_type": "code",
   "execution_count": 49,
   "metadata": {},
   "outputs": [
    {
     "name": "stdout",
     "output_type": "stream",
     "text": [
      "trace([[ 0.23541754 -0.69482698 -0.51831183 -2.6371294  -1.44696274  2.11912234\n",
      "   0.40640623  1.59570881  0.78563143  3.15320412]\n",
      " [-0.69482698 -3.23748121  0.41022665  1.02633442 -0.09453738 -0.60383237\n",
      "  -0.19288547 -1.37051166  2.92865357  1.3395985 ]\n",
      " [-0.51831183  0.41022665  0.32930039  2.86108596 -1.0451053  -1.15436841\n",
      "   0.43857856  1.54344126  1.48380562 -1.68533988]\n",
      " [-2.6371294   1.02633442  2.86108596  0.11499953 -0.64520611 -1.06169311\n",
      "  -3.09164262 -0.019246   -1.14349789  1.29301818]\n",
      " [-1.44696274 -0.09453738 -1.0451053  -0.64520611 -1.51176721 -1.40156234\n",
      "  -0.24705424  2.02566804 -1.00904901  0.92257429]\n",
      " [ 2.11912234 -0.60383237 -1.15436841 -1.06169311 -1.40156234 -0.69059888\n",
      "  -2.18555812 -1.26753236 -0.39363506  0.31888938]\n",
      " [ 0.40640623 -0.19288547  0.43857856 -3.09164262 -0.24705424 -2.18555812\n",
      "  -0.57665827 -0.15002751 -0.24129363 -1.39259314]\n",
      " [ 1.59570881 -1.37051166  1.54344126 -0.019246    2.02566804 -1.26753236\n",
      "  -0.15002751 -1.66451574  0.86144318  0.28490414]\n",
      " [ 0.78563143  2.92865357  1.48380562 -1.14349789 -1.00904901 -0.39363506\n",
      "  -0.24129363  0.86144318 -1.91129594 -0.27115247]\n",
      " [ 3.15320412  1.3395985  -1.68533988  1.29301818  0.92257429  0.31888938\n",
      "  -1.39259314  0.28490414 -0.27115247 -1.63679003]] * reshape(  (0, 0)\t1.0\n",
      "  (1, 1)\t1.0\n",
      "  (10, 1)\t1.0\n",
      "  (2, 2)\t1.0\n",
      "  (20, 2)\t1.0\n",
      "  (3, 3)\t1.0\n",
      "  (30, 3)\t1.0\n",
      "  (4, 4)\t1.0\n",
      "  (40, 4)\t1.0\n",
      "  (5, 5)\t1.0\n",
      "  (50, 5)\t1.0\n",
      "  (6, 6)\t1.0\n",
      "  (60, 6)\t1.0\n",
      "  (7, 7)\t1.0\n",
      "  (70, 7)\t1.0\n",
      "  (8, 8)\t1.0\n",
      "  (80, 8)\t1.0\n",
      "  (9, 9)\t1.0\n",
      "  (90, 9)\t1.0\n",
      "  (11, 10)\t1.0\n",
      "  (12, 11)\t1.0\n",
      "  (21, 11)\t1.0\n",
      "  (13, 12)\t1.0\n",
      "  (31, 12)\t1.0\n",
      "  (14, 13)\t1.0\n",
      "  :\t:\n",
      "  (55, 40)\t1.0\n",
      "  (56, 41)\t1.0\n",
      "  (65, 41)\t1.0\n",
      "  (57, 42)\t1.0\n",
      "  (75, 42)\t1.0\n",
      "  (58, 43)\t1.0\n",
      "  (85, 43)\t1.0\n",
      "  (59, 44)\t1.0\n",
      "  (95, 44)\t1.0\n",
      "  (66, 45)\t1.0\n",
      "  (67, 46)\t1.0\n",
      "  (76, 46)\t1.0\n",
      "  (68, 47)\t1.0\n",
      "  (86, 47)\t1.0\n",
      "  (69, 48)\t1.0\n",
      "  (96, 48)\t1.0\n",
      "  (77, 49)\t1.0\n",
      "  (78, 50)\t1.0\n",
      "  (87, 50)\t1.0\n",
      "  (79, 51)\t1.0\n",
      "  (97, 51)\t1.0\n",
      "  (88, 52)\t1.0\n",
      "  (89, 53)\t1.0\n",
      "  (98, 53)\t1.0\n",
      "  (99, 54)\t1.0 * var89)) + [[-0.3551142 ]\n",
      " [-0.74064485]\n",
      " [ 1.8703419 ]\n",
      " [ 1.75526603]\n",
      " [ 0.45782255]\n",
      " [-1.82428566]\n",
      " [ 1.07982258]\n",
      " [ 0.46040756]\n",
      " [ 2.09341862]\n",
      " [-2.8388998 ]].T * var88\n"
     ]
    },
    {
     "ename": "TypeError",
     "evalue": "'float' object has no attribute '__getitem__'",
     "output_type": "error",
     "traceback": [
      "\u001b[0;31m---------------------------------------------------------------------------\u001b[0m",
      "\u001b[0;31mTypeError\u001b[0m                                 Traceback (most recent call last)",
      "\u001b[0;32m<ipython-input-49-b029d620815c>\u001b[0m in \u001b[0;36m<module>\u001b[0;34m()\u001b[0m\n\u001b[1;32m      1\u001b[0m \u001b[0;32mprint\u001b[0m\u001b[0;34m(\u001b[0m\u001b[0mobj\u001b[0m\u001b[0;34m)\u001b[0m\u001b[0;34m\u001b[0m\u001b[0m\n\u001b[1;32m      2\u001b[0m \u001b[0mprob\u001b[0m \u001b[0;34m=\u001b[0m \u001b[0mcvx\u001b[0m\u001b[0;34m.\u001b[0m\u001b[0mProblem\u001b[0m\u001b[0;34m(\u001b[0m\u001b[0mcvx\u001b[0m\u001b[0;34m.\u001b[0m\u001b[0mMinimize\u001b[0m\u001b[0;34m(\u001b[0m\u001b[0mobj\u001b[0m\u001b[0;34m)\u001b[0m\u001b[0;34m,\u001b[0m \u001b[0mconstr\u001b[0m\u001b[0;34m)\u001b[0m\u001b[0;34m\u001b[0m\u001b[0m\n\u001b[0;32m----> 3\u001b[0;31m \u001b[0mprob\u001b[0m\u001b[0;34m.\u001b[0m\u001b[0msolve\u001b[0m\u001b[0;34m(\u001b[0m\u001b[0msolver\u001b[0m\u001b[0;34m=\u001b[0m\u001b[0;34m\"MOSEK\"\u001b[0m\u001b[0;34m)\u001b[0m\u001b[0;34m\u001b[0m\u001b[0m\n\u001b[0m",
      "\u001b[0;32m/Users/mark/.virtualenvs/python27/lib/python2.7/site-packages/cvxpy/problems/problem.pyc\u001b[0m in \u001b[0;36msolve\u001b[0;34m(self, *args, **kwargs)\u001b[0m\n\u001b[1;32m    207\u001b[0m             \u001b[0;32mreturn\u001b[0m \u001b[0mfunc\u001b[0m\u001b[0;34m(\u001b[0m\u001b[0mself\u001b[0m\u001b[0;34m,\u001b[0m \u001b[0;34m*\u001b[0m\u001b[0margs\u001b[0m\u001b[0;34m,\u001b[0m \u001b[0;34m**\u001b[0m\u001b[0mkwargs\u001b[0m\u001b[0;34m)\u001b[0m\u001b[0;34m\u001b[0m\u001b[0m\n\u001b[1;32m    208\u001b[0m         \u001b[0;32melse\u001b[0m\u001b[0;34m:\u001b[0m\u001b[0;34m\u001b[0m\u001b[0m\n\u001b[0;32m--> 209\u001b[0;31m             \u001b[0;32mreturn\u001b[0m \u001b[0mself\u001b[0m\u001b[0;34m.\u001b[0m\u001b[0m_solve\u001b[0m\u001b[0;34m(\u001b[0m\u001b[0;34m*\u001b[0m\u001b[0margs\u001b[0m\u001b[0;34m,\u001b[0m \u001b[0;34m**\u001b[0m\u001b[0mkwargs\u001b[0m\u001b[0;34m)\u001b[0m\u001b[0;34m\u001b[0m\u001b[0m\n\u001b[0m\u001b[1;32m    210\u001b[0m \u001b[0;34m\u001b[0m\u001b[0m\n\u001b[1;32m    211\u001b[0m     \u001b[0;34m@\u001b[0m\u001b[0mclassmethod\u001b[0m\u001b[0;34m\u001b[0m\u001b[0m\n",
      "\u001b[0;32m/Users/mark/.virtualenvs/python27/lib/python2.7/site-packages/cvxpy/problems/problem.pyc\u001b[0m in \u001b[0;36m_solve\u001b[0;34m(self, solver, ignore_dcp, warm_start, verbose, parallel, **kwargs)\u001b[0m\n\u001b[1;32m    333\u001b[0m         \u001b[0;32melse\u001b[0m\u001b[0;34m:\u001b[0m\u001b[0;34m\u001b[0m\u001b[0m\n\u001b[1;32m    334\u001b[0m             \u001b[0mresults_dict\u001b[0m \u001b[0;34m=\u001b[0m \u001b[0;34m{\u001b[0m\u001b[0ms\u001b[0m\u001b[0;34m.\u001b[0m\u001b[0mSTATUS\u001b[0m\u001b[0;34m:\u001b[0m \u001b[0msym_data\u001b[0m\u001b[0;34m.\u001b[0m\u001b[0mpresolve_status\u001b[0m\u001b[0;34m}\u001b[0m\u001b[0;34m\u001b[0m\u001b[0m\n\u001b[0;32m--> 335\u001b[0;31m         \u001b[0mself\u001b[0m\u001b[0;34m.\u001b[0m\u001b[0m_update_problem_state\u001b[0m\u001b[0;34m(\u001b[0m\u001b[0mresults_dict\u001b[0m\u001b[0;34m,\u001b[0m \u001b[0msym_data\u001b[0m\u001b[0;34m,\u001b[0m \u001b[0msolver\u001b[0m\u001b[0;34m)\u001b[0m\u001b[0;34m\u001b[0m\u001b[0m\n\u001b[0m\u001b[1;32m    336\u001b[0m         \u001b[0;32mreturn\u001b[0m \u001b[0mself\u001b[0m\u001b[0;34m.\u001b[0m\u001b[0mvalue\u001b[0m\u001b[0;34m\u001b[0m\u001b[0m\n\u001b[1;32m    337\u001b[0m \u001b[0;34m\u001b[0m\u001b[0m\n",
      "\u001b[0;32m/Users/mark/.virtualenvs/python27/lib/python2.7/site-packages/cvxpy/problems/problem.pyc\u001b[0m in \u001b[0;36m_update_problem_state\u001b[0;34m(self, results_dict, sym_data, solver)\u001b[0m\n\u001b[1;32m    435\u001b[0m                 self._save_dual_values(results_dict[s.INEQ_DUAL],\n\u001b[1;32m    436\u001b[0m                                        \u001b[0msym_data\u001b[0m\u001b[0;34m.\u001b[0m\u001b[0mconstr_map\u001b[0m\u001b[0;34m[\u001b[0m\u001b[0ms\u001b[0m\u001b[0;34m.\u001b[0m\u001b[0mLEQ\u001b[0m\u001b[0;34m]\u001b[0m\u001b[0;34m,\u001b[0m\u001b[0;34m\u001b[0m\u001b[0m\n\u001b[0;32m--> 437\u001b[0;31m                                        [LeqConstraint, PSDConstraint])\n\u001b[0m\u001b[1;32m    438\u001b[0m             \u001b[0;31m# Correct optimal value if the objective was Maximize.\u001b[0m\u001b[0;34m\u001b[0m\u001b[0;34m\u001b[0m\u001b[0m\n\u001b[1;32m    439\u001b[0m             \u001b[0mvalue\u001b[0m \u001b[0;34m=\u001b[0m \u001b[0mresults_dict\u001b[0m\u001b[0;34m[\u001b[0m\u001b[0ms\u001b[0m\u001b[0;34m.\u001b[0m\u001b[0mVALUE\u001b[0m\u001b[0;34m]\u001b[0m\u001b[0;34m\u001b[0m\u001b[0m\n",
      "\u001b[0;32m/Users/mark/.virtualenvs/python27/lib/python2.7/site-packages/cvxpy/problems/problem.pyc\u001b[0m in \u001b[0;36m_save_dual_values\u001b[0;34m(self, result_vec, constraints, constr_types)\u001b[0m\n\u001b[1;32m    517\u001b[0m             \u001b[0;32mif\u001b[0m \u001b[0mtype\u001b[0m\u001b[0;34m(\u001b[0m\u001b[0mconstr\u001b[0m\u001b[0;34m)\u001b[0m \u001b[0;32min\u001b[0m \u001b[0mconstr_types\u001b[0m\u001b[0;34m:\u001b[0m\u001b[0;34m\u001b[0m\u001b[0m\n\u001b[1;32m    518\u001b[0m                 \u001b[0mactive_constraints\u001b[0m\u001b[0;34m.\u001b[0m\u001b[0mappend\u001b[0m\u001b[0;34m(\u001b[0m\u001b[0mconstr\u001b[0m\u001b[0;34m)\u001b[0m\u001b[0;34m\u001b[0m\u001b[0m\n\u001b[0;32m--> 519\u001b[0;31m         \u001b[0mself\u001b[0m\u001b[0;34m.\u001b[0m\u001b[0m_save_values\u001b[0m\u001b[0;34m(\u001b[0m\u001b[0mresult_vec\u001b[0m\u001b[0;34m,\u001b[0m \u001b[0mactive_constraints\u001b[0m\u001b[0;34m,\u001b[0m \u001b[0mconstr_offsets\u001b[0m\u001b[0;34m)\u001b[0m\u001b[0;34m\u001b[0m\u001b[0m\n\u001b[0m\u001b[1;32m    520\u001b[0m \u001b[0;34m\u001b[0m\u001b[0m\n\u001b[1;32m    521\u001b[0m     \u001b[0;32mdef\u001b[0m \u001b[0m_save_values\u001b[0m\u001b[0;34m(\u001b[0m\u001b[0mself\u001b[0m\u001b[0;34m,\u001b[0m \u001b[0mresult_vec\u001b[0m\u001b[0;34m,\u001b[0m \u001b[0mobjects\u001b[0m\u001b[0;34m,\u001b[0m \u001b[0moffset_map\u001b[0m\u001b[0;34m)\u001b[0m\u001b[0;34m:\u001b[0m\u001b[0;34m\u001b[0m\u001b[0m\n",
      "\u001b[0;32m/Users/mark/.virtualenvs/python27/lib/python2.7/site-packages/cvxpy/problems/problem.pyc\u001b[0m in \u001b[0;36m_save_values\u001b[0;34m(self, result_vec, objects, offset_map)\u001b[0m\n\u001b[1;32m    544\u001b[0m                     \u001b[0mvalue\u001b[0m \u001b[0;34m=\u001b[0m \u001b[0mintf\u001b[0m\u001b[0;34m.\u001b[0m\u001b[0mDEFAULT_INTF\u001b[0m\u001b[0;34m.\u001b[0m\u001b[0mzeros\u001b[0m\u001b[0;34m(\u001b[0m\u001b[0mrows\u001b[0m\u001b[0;34m,\u001b[0m \u001b[0mcols\u001b[0m\u001b[0;34m)\u001b[0m\u001b[0;34m\u001b[0m\u001b[0m\n\u001b[1;32m    545\u001b[0m                     intf.DEFAULT_INTF.block_add(\n\u001b[0;32m--> 546\u001b[0;31m                         \u001b[0mvalue\u001b[0m\u001b[0;34m,\u001b[0m \u001b[0mresult_vec\u001b[0m\u001b[0;34m[\u001b[0m\u001b[0moffset\u001b[0m\u001b[0;34m:\u001b[0m\u001b[0moffset\u001b[0m \u001b[0;34m+\u001b[0m \u001b[0mrows\u001b[0m \u001b[0;34m*\u001b[0m \u001b[0mcols\u001b[0m\u001b[0;34m]\u001b[0m\u001b[0;34m,\u001b[0m \u001b[0;36m0\u001b[0m\u001b[0;34m,\u001b[0m \u001b[0;36m0\u001b[0m\u001b[0;34m,\u001b[0m\u001b[0;34m\u001b[0m\u001b[0m\n\u001b[0m\u001b[1;32m    547\u001b[0m                         rows, cols)\n\u001b[1;32m    548\u001b[0m                 \u001b[0moffset\u001b[0m \u001b[0;34m+=\u001b[0m \u001b[0mrows\u001b[0m \u001b[0;34m*\u001b[0m \u001b[0mcols\u001b[0m\u001b[0;34m\u001b[0m\u001b[0m\n",
      "\u001b[0;31mTypeError\u001b[0m: 'float' object has no attribute '__getitem__'"
     ]
    }
   ],
   "source": [
    "print(obj)\n",
    "prob = cvx.Problem(cvx.Minimize(obj), constr)\n",
    "prob.solve(solver=\"MOSEK\")"
   ]
  },
  {
   "cell_type": "code",
   "execution_count": null,
   "metadata": {},
   "outputs": [],
   "source": []
  }
 ],
 "metadata": {
  "kernelspec": {
   "display_name": "Python 2",
   "language": "python",
   "name": "python2"
  },
  "language_info": {
   "codemirror_mode": {
    "name": "ipython",
    "version": 2
   },
   "file_extension": ".py",
   "mimetype": "text/x-python",
   "name": "python",
   "nbconvert_exporter": "python",
   "pygments_lexer": "ipython2",
   "version": "2.7.14"
  }
 },
 "nbformat": 4,
 "nbformat_minor": 2
}
